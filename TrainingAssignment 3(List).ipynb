{
 "cells": [
  {
   "cell_type": "code",
   "execution_count": 33,
   "metadata": {},
   "outputs": [
    {
     "name": "stdout",
     "output_type": "stream",
     "text": [
      "['Aashish', 'Abhaya', 'Bipin', 'Barsha', 'Bijayta', 'Nicol', 'Prabal', 'Rabin', 'Sachin', 'Sandip']\n",
      "[]\n",
      "\n",
      "\n",
      "The name of student that starts with B are:\n",
      " ['Bipin', 'Barsha', 'Bijayta']\n"
     ]
    }
   ],
   "source": [
    "#1. Make a list of ten students in your class. Print the name of each student whose name starts with ‘B’.\n",
    "Sem7th = [\"Aashish\",\"Abhaya\",\"Bipin\",\"Barsha\",\"Bijayta\",\"Nicol\",\"Prabal\",\"Rabin\",\"Sachin\",\"Sandip\"]\n",
    "select = []     #declare empty list\n",
    "print(Sem7th)\n",
    "print(select)\n",
    "print(\"\\n\")\n",
    "\n",
    "for x in Sem7th:\n",
    "    if(x[0] == \"B\"):      #checks first letter of each element in list with condition \"B\"\n",
    "        select.append(x)  #appends the value of x in empty list that met condition\n",
    "        \n",
    "print(\"The name of student that starts with B are:\\n\",select)"
   ]
  },
  {
   "cell_type": "code",
   "execution_count": 34,
   "metadata": {},
   "outputs": [
    {
     "name": "stdout",
     "output_type": "stream",
     "text": [
      "['Aashish', 'Abhaya', 'Bipin', 'Barsha', 'Bijayta', 'Nicol', 'Prabal', 'Rabin', 'Sachin', 'Sandip']\n",
      "[]\n",
      "\n",
      "\n",
      "The name of student that ends with a are:\n",
      " ['Abhaya', 'Barsha', 'Bijayta']\n"
     ]
    }
   ],
   "source": [
    "#2. Make a list of ten students in your class. Print the name of each student whose name ends with ‘a’.\n",
    "Sem7th = [\"Aashish\",\"Abhaya\",\"Bipin\",\"Barsha\",\"Bijayta\",\"Nicol\",\"Prabal\",\"Rabin\",\"Sachin\",\"Sandip\"]\n",
    "select = []         #declare empty list\n",
    "print(Sem7th)\n",
    "print(select)\n",
    "print(\"\\n\")\n",
    "\n",
    "\n",
    "for x in Sem7th:\n",
    "    if(x[-1] == \"a\"):       #checks last letter of each element in list with condition \"a\"\n",
    "        select.append(x)    #appends the value of x in empty list that met condition\n",
    "        \n",
    "print(\"The name of student that ends with a are:\\n\",select)"
   ]
  },
  {
   "cell_type": "code",
   "execution_count": 35,
   "metadata": {},
   "outputs": [
    {
     "name": "stdout",
     "output_type": "stream",
     "text": [
      "The initial List is displayed as:\n",
      " ['Italy', 'Argentina', 'Germany', 'Brazil', 'France', 'Brazil', 'Italy', 'Spain', 'Germany', 'France']\n",
      "\n",
      "The Unique element from above list is displayed as:\n",
      " ['Italy', 'Argentina', 'Germany', 'Brazil', 'France', 'Spain']\n"
     ]
    }
   ],
   "source": [
    "\"\"\"3. Print all the unique elements in the following list \n",
    "fifa = ['Italy','Argentina','Germany','Brazil','France','Brazil','Italy','Spain','Germany','France']\"\"\"\n",
    "\n",
    "fifa = ['Italy','Argentina','Germany','Brazil','France','Brazil','Italy','Spain','Germany','France']\n",
    "UniqueElement = []\n",
    "for x in fifa:\n",
    "    if x not in UniqueElement:\n",
    "        UniqueElement.append(x)\n",
    "\n",
    "print(\"The initial List is displayed as:\\n\",fifa)\n",
    "print(\"\\nThe Unique element from above list is displayed as:\\n\",UniqueElement)"
   ]
  },
  {
   "cell_type": "code",
   "execution_count": 36,
   "metadata": {},
   "outputs": [
    {
     "name": "stdout",
     "output_type": "stream",
     "text": [
      "Before capitalixing the initial list is:\n",
      " ['hurricane', 'tambourine', 'blowing', 'numb']\n",
      "[]\n",
      "\n",
      "\n",
      "The first alphabet if each element is capitalized as:\n",
      " ['Hurricane', 'Tambourine', 'Blowing', 'Numb']\n"
     ]
    }
   ],
   "source": [
    "\"\"\"4. Change the first alphabet of all elements of the following list to capital.\n",
    "        Bob = [‘hurricane’,’tambourine’,’blowing’,’numb’]\"\"\"\n",
    "\n",
    "Bob = ['hurricane','tambourine','blowing','numb']\n",
    "Cap = []\n",
    "print(\"Before capitalixing the initial list is:\\n\",Bob)\n",
    "print(Cap)\n",
    "print(\"\\n\")\n",
    "\n",
    "for x in Bob:\n",
    "    Cap.append(x.title())   #Convert first letter of each string element in list and append to empty list\n",
    "print(\"The first alphabet if each element is capitalized as:\\n\",Cap)"
   ]
  },
  {
   "cell_type": "code",
   "execution_count": 37,
   "metadata": {},
   "outputs": [
    {
     "name": "stdout",
     "output_type": "stream",
     "text": [
      "The first set is:\n",
      " ['a', 'b', 'c', 'd']\n",
      "\n",
      "The second set is:\n",
      " ['1', 'a', '2', 'b']\n",
      "\n",
      "The Union of A and B is:\n",
      " ['c', 'a', 'b', 'd', '1', '2']\n",
      "\n",
      "The Intersection of A and B is:\n",
      " ['a', 'b']\n"
     ]
    }
   ],
   "source": [
    "\"\"\"5. A = [‘a’,’b’,’c’,’d’] B = [‘1’,’a’,’2’,’b’]\n",
    "        Find A union B and A intersection B\"\"\"\n",
    "\n",
    "A = ['a','b','c','d']\n",
    "B = ['1','a','2','b']\n",
    "\n",
    "print(\"The first set is:\\n\",A)\n",
    "print(\"\\nThe second set is:\\n\",B)\n",
    "\n",
    "Union = list(set(A) | set(B))        #Convert A and B to set first then union operation (|) returned in list format. \n",
    "Intersect = list(set(A) & set(B))    #Convert A and B to set first then intersection operation (&) returned in list format.\n",
    "\n",
    "print(\"\\nThe Union of A and B is:\\n\",Union)\n",
    "print(\"\\nThe Intersection of A and B is:\\n\",Intersect)"
   ]
  },
  {
   "cell_type": "code",
   "execution_count": 38,
   "metadata": {},
   "outputs": [
    {
     "name": "stdout",
     "output_type": "stream",
     "text": [
      "The calculated Mean is: 37.9\n",
      "The calculated Standard Deviation is: 34.23287893239481\n",
      "\n",
      "The Mean generated using inbuilt python function is: 37.9\n",
      "The Standard Deviation generated using inbuilt python function is 36.08462276372028\n"
     ]
    }
   ],
   "source": [
    "\"\"\"6. Calculate the mean and standard deviation of the following list:\n",
    "        Numbers = [1,2,3,5,88,99,55,33,41,52]\"\"\"\n",
    "\n",
    "import math\n",
    "import statistics\n",
    "\n",
    "def mean(Numbers):\n",
    "    n = len(Numbers)\n",
    "    Sum = sum(Numbers)\n",
    "    Avg = Sum/n\n",
    "    print(\"The calculated Mean is:\",Avg)\n",
    "\n",
    "def StandardDeviation(Numbers):\n",
    "    List2 = []\n",
    "    N = len(Numbers)\n",
    "    X = sum(Numbers)\n",
    "    for z in Numbers:\n",
    "        a = pow(z,2)\n",
    "        List2.append(a)\n",
    "    X2 = sum(List2)\n",
    "    SX = pow((X/N),2)\n",
    "    SX2 = X2/N\n",
    "    SD = math.sqrt(SX2 - SX)\n",
    "    print(\"The calculated Standard Deviation is:\",SD)\n",
    "\n",
    "Numbers = [1,2,3,5,88,99,55,33,41,52]\n",
    "\n",
    "mean(Numbers)\n",
    "StandardDeviation(Numbers)\n",
    "\n",
    "#Using inbuilt python function\n",
    "u = statistics.mean(Numbers)\n",
    "v = statistics.stdev(Numbers)\n",
    "print(\"\\nThe Mean generated using inbuilt python function is:\",u)\n",
    "print(\"The Standard Deviation generated using inbuilt python function is\",v)"
   ]
  },
  {
   "cell_type": "code",
   "execution_count": null,
   "metadata": {},
   "outputs": [],
   "source": []
  }
 ],
 "metadata": {
  "kernelspec": {
   "display_name": "Python 3",
   "language": "python",
   "name": "python3"
  },
  "language_info": {
   "codemirror_mode": {
    "name": "ipython",
    "version": 3
   },
   "file_extension": ".py",
   "mimetype": "text/x-python",
   "name": "python",
   "nbconvert_exporter": "python",
   "pygments_lexer": "ipython3",
   "version": "3.8.5"
  }
 },
 "nbformat": 4,
 "nbformat_minor": 4
}
