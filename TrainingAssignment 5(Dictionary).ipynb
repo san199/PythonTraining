{
 "cells": [
  {
   "cell_type": "code",
   "execution_count": 38,
   "metadata": {},
   "outputs": [
    {
     "name": "stdout",
     "output_type": "stream",
     "text": [
      "The dictionary before deleting elements:\n",
      " {'jack': '55', 'jill': '56', 'david': '57', 'silva': '66', 'ronaldo': '76'}\n",
      "\n",
      "The dictionary after deleting the lowest marks element:\n",
      " {'jill': '56', 'david': '57', 'silva': '66', 'ronaldo': '76'}\n"
     ]
    }
   ],
   "source": [
    "\"\"\"1. Students = [‘jack’,’jill’,’david’,’silva’,’ronaldo’]\n",
    "      Marks = [‘55’,’56’,’57’,’66’,’76’]\n",
    "Make a dictionary using lists above and delete the key-value (students:marks) pairs with lowest marks. \"\"\"\n",
    "\n",
    "\n",
    "Students = ['jack','jill','david','silva','ronaldo']\n",
    "Marks = ['55','56','57','66','76']\n",
    "Report = {}\n",
    "i = 0\n",
    "while i < len(Students):\n",
    "    Report[Students[i]] = Marks[i]\n",
    "    i += 1\n",
    "print(\"The dictionary before deleting elements:\\n\",Report)\n",
    "l = min(Report,key=Report.get)\n",
    "del Report[l]\n",
    "print(\"\\nThe dictionary after deleting the lowest marks element:\\n\",Report)"
   ]
  },
  {
   "cell_type": "code",
   "execution_count": 37,
   "metadata": {},
   "outputs": [
    {
     "name": "stdout",
     "output_type": "stream",
     "text": [
      "The dictionary is:\n",
      " {'France': 5, 'Germany': 2, 'Portugal': 3, 'Hungary': 6}\n",
      "\n",
      "The list of countries:\n",
      " ['France', 'Germany', 'Portugal', 'Hungary']\n",
      "\n",
      "The list of points:\n",
      " [5, 2, 3, 6]\n"
     ]
    }
   ],
   "source": [
    "\"\"\"2. Euro = {‘France’:5,’Germany’:2,’Portugal’:3,’Hungary’:6}\n",
    "        Make two lists from above dictionary. \"\"\"\n",
    "\n",
    "Euro={'France':5, 'Germany':2, 'Portugal':3, 'Hungary':6}\n",
    "Countries = list(Euro.keys())\n",
    "Points = list(Euro.values())\n",
    "print(\"The dictionary is:\\n\",Euro)\n",
    "print(\"\\nThe list of countries:\\n\",Countries)\n",
    "print(\"\\nThe list of points:\\n\",Points)"
   ]
  },
  {
   "cell_type": "code",
   "execution_count": 35,
   "metadata": {},
   "outputs": [
    {
     "name": "stdout",
     "output_type": "stream",
     "text": [
      "Usernames list:\n",
      " ['g91', 'twir56', 'jsdl8']\n",
      "\n",
      " Name list:\n",
      " ['Aron', 'Visakha', 'Saudi']\n",
      "\n",
      " Age list:\n",
      " [55, 26, 12]\n",
      "\n",
      " Poison list:\n",
      " ['Old monk', 'coca cola', 'hinwa']\n"
     ]
    }
   ],
   "source": [
    "\"\"\"3. users = {'g91':{'name':'Aron','age':55,'poison':'Old monk'},\n",
    "        'twir56':{'name':'Visakha','age':26,'poison':'coca cola'},\n",
    "        'jsdl8':{'name':'Saudi','age':12,'poison':'hinwa'}}\n",
    "Generate a list of usernames, name, age and poison from the above dictionary. \"\"\"\n",
    "\n",
    "users = {'g91':{'name':'Aron','age':55,'poison':'Old monk'}, \n",
    "         'twir56':{'name':'Visakha','age':26,'poison':'coca cola'}, \n",
    "         'jsdl8':{'name':'Saudi','age':12,'poison':'hinwa'}}\n",
    "\n",
    "usernames=list(users.keys())\n",
    "name=[]\n",
    "age=[]\n",
    "poison=[]\n",
    "i=0\n",
    "while i<len(users):\n",
    "    name.append(users[usernames[i]]['name'])\n",
    "    age.append(users[usernames[i]]['age'])\n",
    "    poison.append(users[usernames[i]]['poison'])\n",
    "    i += 1\n",
    "print(\"Usernames list:\\n\",usernames)\n",
    "print(\"\\n Name list:\\n\",name)\n",
    "print(\"\\n Age list:\\n\",age)\n",
    "print(\"\\n Poison list:\\n\",poison)"
   ]
  },
  {
   "cell_type": "code",
   "execution_count": 34,
   "metadata": {},
   "outputs": [
    {
     "name": "stdout",
     "output_type": "stream",
     "text": [
      "Sorting all the above list as:\n",
      "\n",
      "Usernames list:\n",
      " ['g91', 'jsdl8', 'twir56']\n",
      "\n",
      " Name list:\n",
      " ['Aron', 'Saudi', 'Visakha']\n",
      "\n",
      " Age list:\n",
      " [12, 26, 55]\n",
      "\n",
      " Poison list:\n",
      " ['Old monk', 'coca cola', 'hinwa']\n"
     ]
    }
   ],
   "source": [
    "#4. Take the above list and put it in order.\n",
    "\n",
    "print(\"Sorting all the above list as:\\n\")\n",
    "usernames.sort()\n",
    "name.sort()\n",
    "age.sort()\n",
    "poison.sort()\n",
    "print(\"Usernames list:\\n\",usernames)\n",
    "print(\"\\n Name list:\\n\",name)\n",
    "print(\"\\n Age list:\\n\",age)\n",
    "print(\"\\n Poison list:\\n\",poison)"
   ]
  },
  {
   "cell_type": "code",
   "execution_count": 19,
   "metadata": {},
   "outputs": [
    {
     "name": "stdout",
     "output_type": "stream",
     "text": [
      "{'Expiration_date': (25, 'December', 2022), 'Vol': '500ml', 'Cost': 5000, 'Brand_name': 'Today'}\n"
     ]
    }
   ],
   "source": [
    "\"\"\"5. Create an empty dictionary called milk_carton. Add the following key/value pairs.You can make up the values or use a \n",
    "        real milk carton.\n",
    "        a.Expiration_date: a tuple with day, month, year\n",
    "        b.Vol: volume of milk \n",
    "        c.Cost: cost of milk\n",
    "        d.Brand_name \"\"\"\n",
    "\n",
    "milk_carton={}\n",
    "milk_carton['Expiration_date']=(25,'December',2022)\n",
    "milk_carton['Vol']='500ml'\n",
    "milk_carton['Cost']=5000\n",
    "milk_carton['Brand_name']='Today'\n",
    "print(milk_carton)"
   ]
  },
  {
   "cell_type": "code",
   "execution_count": 29,
   "metadata": {},
   "outputs": [
    {
     "name": "stdout",
     "output_type": "stream",
     "text": [
      "Values of all the elements pf milk carton is:\n",
      " dict_values([(25, 'December', 2022), '500ml', 5000, 'Today'])\n"
     ]
    }
   ],
   "source": [
    "#6. Print out the values of all of the elements of the milk_carton using the values in the dictionary\n",
    "print(\"Values of all the elements pf milk carton is:\\n\",milk_carton.values())"
   ]
  },
  {
   "cell_type": "code",
   "execution_count": 28,
   "metadata": {},
   "outputs": [
    {
     "name": "stdout",
     "output_type": "stream",
     "text": [
      "Cost of 6 cartons of milk based on cost of the milk_carton is Rs. 30000\n"
     ]
    }
   ],
   "source": [
    "#7. Show how to calculate the cost of six cartons of milk based on the cost of the milk_carton.\n",
    "\n",
    "cartons = 6\n",
    "tc = cartons * milk_carton['Cost']\n",
    "print(\"Cost of {} cartons of milk based on cost of the milk_carton is Rs. {}\".format(cartons,tc))"
   ]
  },
  {
   "cell_type": "code",
   "execution_count": null,
   "metadata": {},
   "outputs": [],
   "source": []
  }
 ],
 "metadata": {
  "kernelspec": {
   "display_name": "Python 3",
   "language": "python",
   "name": "python3"
  },
  "language_info": {
   "codemirror_mode": {
    "name": "ipython",
    "version": 3
   },
   "file_extension": ".py",
   "mimetype": "text/x-python",
   "name": "python",
   "nbconvert_exporter": "python",
   "pygments_lexer": "ipython3",
   "version": "3.8.5"
  }
 },
 "nbformat": 4,
 "nbformat_minor": 4
}
