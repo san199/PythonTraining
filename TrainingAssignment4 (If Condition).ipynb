{
 "cells": [
  {
   "cell_type": "code",
   "execution_count": 2,
   "metadata": {},
   "outputs": [
    {
     "name": "stdout",
     "output_type": "stream",
     "text": [
      "Enter the first number:100\n",
      "Enter the second number:50\n",
      "Enter the third number:70\n",
      "The input numbers are (100,50,70)\n",
      "\n",
      "\n",
      "The largest number is: 100\n"
     ]
    }
   ],
   "source": [
    "#1. Write a python program to find the largest of three numbers\n",
    "a = int(input(\"Enter the first number:\"))\n",
    "b = int(input(\"Enter the second number:\"))\n",
    "c = int(input(\"Enter the third number:\"))\n",
    "print(\"The input numbers are ({},{},{})\".format(a,b,c))\n",
    "print(\"\\n\")\n",
    "\n",
    "if a > b and a > c:\n",
    "    print(\"The largest number is:\",a)\n",
    "    \n",
    "elif b > a and b > c:\n",
    "    print(\"The largest number is:\",b)\n",
    "    \n",
    "else:\n",
    "    print(\"The largest number is:\",c)"
   ]
  },
  {
   "cell_type": "code",
   "execution_count": 6,
   "metadata": {},
   "outputs": [
    {
     "name": "stdout",
     "output_type": "stream",
     "text": [
      "Enter the alphabetic character:A\n",
      "\n",
      "The input character 'A' is uppercase.\n"
     ]
    }
   ],
   "source": [
    "#2. Write a python program to check whether a character is uppercase or lowercase alphabet.\n",
    "\n",
    "ui = input(\"Enter the alphabetic character:\")[0]  #if string is input then only first character is stored by \"[0]\".\n",
    "if ui.isupper() == True:\n",
    "    print(\"\\nThe input character '{}' is uppercase.\".format(ui))\n",
    "elif ui.islower() == True:\n",
    "    print(\"\\nThe input character '{}' is lowercase.\".format(ui))\n",
    "else:\n",
    "    print(\"\\nInput the alphabetic character.\")"
   ]
  },
  {
   "cell_type": "code",
   "execution_count": 3,
   "metadata": {},
   "outputs": [
    {
     "name": "stdout",
     "output_type": "stream",
     "text": [
      "Enter either number or character: 1089\n",
      "\n",
      "The Given input  1089 is a number.\n"
     ]
    }
   ],
   "source": [
    "#3. WAP to find whether given input is number or character.\n",
    "ch = input(\"Enter either number or character: \")\n",
    " \n",
    "if((ch >= 'a' and ch <= 'z') or (ch >= 'A' and ch <= 'Z')): \n",
    "    print(\"\\nThe Given input \", ch, \"is a character.\") \n",
    "elif(ch >= '0' and ch <= '9'):\n",
    "    print(\"\\nThe Given input \", ch, \"is a number.\")\n",
    "else:\n",
    "    print(\"\\nPlease enter either character or number.\")"
   ]
  },
  {
   "cell_type": "code",
   "execution_count": 8,
   "metadata": {},
   "outputs": [
    {
     "name": "stdout",
     "output_type": "stream",
     "text": [
      "Enter the single alphabet:U\n",
      "\n",
      "The input alphabet 'U' is a Vowel.\n"
     ]
    }
   ],
   "source": [
    "#4. Write a program to check whether the input alphabet is vowel or not using if-else.\n",
    "vowel = ['A','E','I','O','U','a','e','i','o','u']\n",
    "inp = input(\"Enter the single alphabet:\")\n",
    "if inp in vowel:\n",
    "    print(\"\\nThe input alphabet '{}' is a Vowel.\".format(inp))\n",
    "else:\n",
    "    print(\"\\nThe input alphabet '{}' is not a Vowel.\".format(inp))"
   ]
  },
  {
   "cell_type": "code",
   "execution_count": 8,
   "metadata": {},
   "outputs": [
    {
     "name": "stdout",
     "output_type": "stream",
     "text": [
      "Enter the year in AD:1989\n",
      "\n",
      "The year 1989 is not the leap year.\n"
     ]
    }
   ],
   "source": [
    "#5. Write a program to check whether the entered year is leap year or not.\n",
    "\n",
    "year = int(input(\"Enter the year in AD:\"))\n",
    "if year%4 == 0:\n",
    "    print(\"\\nThe year {} is the leap year.\".format(year))\n",
    "else:\n",
    "    print(\"\\nThe year {} is not the leap year.\".format(year))"
   ]
  },
  {
   "cell_type": "code",
   "execution_count": 2,
   "metadata": {},
   "outputs": [
    {
     "name": "stdout",
     "output_type": "stream",
     "text": [
      "Enter the number:371\n",
      "\n",
      "The number 371 is an Armstrong number.\n"
     ]
    }
   ],
   "source": [
    "#6. Write a program to check if the number is Armstrong or not.\n",
    "a = int(input(\"Enter the number:\"))\n",
    "z = str(a)\n",
    "b = 0\n",
    "\n",
    "for x in z:\n",
    "    x = int(x)\n",
    "    b = pow(x,3) +b\n",
    "\n",
    "if a == b:\n",
    "    print(\"\\nThe number {} is an Armstrong number.\".format(a))\n",
    "else:\n",
    "    print(\"\\nThe number {} is not an Armstrong number.\".format(a))\n",
    "    "
   ]
  },
  {
   "cell_type": "code",
   "execution_count": 4,
   "metadata": {},
   "outputs": [
    {
     "name": "stdout",
     "output_type": "stream",
     "text": [
      "Enter the marks:68\n",
      "\n",
      "Grade D for marks 68\n"
     ]
    }
   ],
   "source": [
    "#7. Write a program to compute the grade from marks.\n",
    "\n",
    "marks = int(input(\"Enter the marks:\"))\n",
    "if marks <= 50:\n",
    "    print(\"\\nGrade F for marks {}.\".format(marks))\n",
    "elif 60 >= marks > 50:\n",
    "    print(\"\\nGrade E for marks {}.\".format(marks))\n",
    "elif 70 >= marks > 60:\n",
    "    print(\"\\nGrade D for marks {}.\".format(marks))\n",
    "elif 80 >= marks > 70:\n",
    "    print(\"\\nGrade C for marks {}.\".format(marks))\n",
    "elif 90 >= marks > 80:\n",
    "    print(\"\\nGrade B for marks {}.\".format(marks))\n",
    "elif 100 >= marks > 90:\n",
    "    print(\"\\nGrade E for marks {}.\".format(marks))\n",
    "else:\n",
    "    print(\"\\nMarks cannot exceed over 100.\")"
   ]
  },
  {
   "cell_type": "code",
   "execution_count": null,
   "metadata": {},
   "outputs": [],
   "source": []
  }
 ],
 "metadata": {
  "kernelspec": {
   "display_name": "Python 3",
   "language": "python",
   "name": "python3"
  },
  "language_info": {
   "codemirror_mode": {
    "name": "ipython",
    "version": 3
   },
   "file_extension": ".py",
   "mimetype": "text/x-python",
   "name": "python",
   "nbconvert_exporter": "python",
   "pygments_lexer": "ipython3",
   "version": "3.8.5"
  }
 },
 "nbformat": 4,
 "nbformat_minor": 4
}
