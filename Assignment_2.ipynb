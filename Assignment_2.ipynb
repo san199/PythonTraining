{
  "nbformat": 4,
  "nbformat_minor": 0,
  "metadata": {
    "colab": {
      "name": "Assignment 2.ipynb",
      "provenance": [],
      "collapsed_sections": []
    },
    "kernelspec": {
      "name": "python3",
      "display_name": "Python 3"
    },
    "language_info": {
      "name": "python"
    }
  },
  "cells": [
    {
      "cell_type": "code",
      "metadata": {
        "colab": {
          "base_uri": "https://localhost:8080/"
        },
        "id": "SBKYuy4zZKj6",
        "outputId": "8038a204-383d-4a90-c7de-7731cec24d89"
      },
      "source": [
        "#1. Convert tuples to list.\n",
        "\n",
        "thisTuple = (\"apple\",\"banana\",\"cherry\")  #created tuples\n",
        "print(thisTuple)\n",
        "print(type(thisTuple))\n",
        "\n",
        "y = list(thisTuple)     #Converting tuples to list\n",
        "print(\"\\n\")\n",
        "print(y)\n",
        "print(type(y))"
      ],
      "execution_count": 1,
      "outputs": [
        {
          "output_type": "stream",
          "text": [
            "('apple', 'banana', 'cherry')\n",
            "<class 'tuple'>\n",
            "\n",
            "\n",
            "['apple', 'banana', 'cherry']\n",
            "<class 'list'>\n"
          ],
          "name": "stdout"
        }
      ]
    },
    {
      "cell_type": "code",
      "metadata": {
        "colab": {
          "base_uri": "https://localhost:8080/"
        },
        "id": "udY9H34WZRnP",
        "outputId": "cde07974-9691-479e-aa20-281de888a1c0"
      },
      "source": [
        "\"\"\"2. Write a program to calculate direction and magnitude of the vector described by the following points.\n",
        "        A = (20,30)\n",
        "        B = (30,40)\"\"\"\n",
        "\n",
        "import math\n",
        "A = (20,30)\n",
        "B = (30,40)\n",
        "def direction(A,b):\n",
        "    x1 = A[0]\n",
        "    x2 = B[0]\n",
        "    y1 = A[1]\n",
        "    y2 = B[1]\n",
        "    y = y2-y1\n",
        "    x = x2-x1\n",
        "    u = y/x\n",
        "    r = math.atan(u)           #math.atan() = tan inverse and return angle in radian\n",
        "    theta = r *(180/math.pi)   #converting radian to degree for angle\n",
        "    print(\"The direction of the vector is:\",theta)\n",
        "def magnitude(A,B):\n",
        "    x1 = A[0]\n",
        "    x2 = B[0]\n",
        "    y1 = A[1]\n",
        "    y2 = B[1]\n",
        "    c = pow((x2-x1),2)\n",
        "    d = pow((y2-y1),2)\n",
        "    m = math.sqrt(c+d)\n",
        "    print(\"The magnitude of the vector is:\",m)\n",
        "direction(A,B)\n",
        "magnitude(A,B)"
      ],
      "execution_count": 2,
      "outputs": [
        {
          "output_type": "stream",
          "text": [
            "The direction of the vector is: 45.0\n",
            "The magnitude of the vector is: 14.142135623730951\n"
          ],
          "name": "stdout"
        }
      ]
    },
    {
      "cell_type": "code",
      "metadata": {
        "colab": {
          "base_uri": "https://localhost:8080/"
        },
        "id": "l4ofyGUYZh71",
        "outputId": "17e08698-447c-452c-a409-7c5e75c89283"
      },
      "source": [
        "#3. Write a program to demonstrate data types that can be elements of a tuple.\n",
        "tuple1 = (\"mustang\",\"ford\",\"Lamborghini\")\n",
        "print(tuple1)\n",
        "print(type(tuple1))\n",
        "print(type(tuple1[0]))\n",
        "\n",
        "print(\"\\n\")\n",
        "\n",
        "tuple2 = (1,2,3,4,5)\n",
        "print(tuple2)\n",
        "print(type(tuple2))\n",
        "print(type(tuple2[0]))\n",
        "\n",
        "print(\"\\n\")\n",
        "\n",
        "tuple3 = (\"HP\",[\"Asus\",\"Dell\"])\n",
        "print(tuple3)\n",
        "print(type(tuple3))\n",
        "print(type(tuple3[1]))\n",
        "\n",
        "print(\"\\n\")\n",
        "\n",
        "tuple4 = (\"a\",\"b\",\"c\")\n",
        "print(tuple4)\n",
        "print(type(tuple4))\n",
        "print(type(tuple4[1]))\n",
        "\n",
        "print(\"\\n\")\n",
        "\n",
        "tuple5 = (\"apple\",1,[\"Rolex\",\"Titan\"])\n",
        "print(tuple5)\n",
        "print(type(tuple5))\n",
        "print(type(tuple5[0]))\n",
        "print(type(tuple5[1]))\n",
        "print(type(tuple5[2]))"
      ],
      "execution_count": 3,
      "outputs": [
        {
          "output_type": "stream",
          "text": [
            "('mustang', 'ford', 'Lamborghini')\n",
            "<class 'tuple'>\n",
            "<class 'str'>\n",
            "\n",
            "\n",
            "(1, 2, 3, 4, 5)\n",
            "<class 'tuple'>\n",
            "<class 'int'>\n",
            "\n",
            "\n",
            "('HP', ['Asus', 'Dell'])\n",
            "<class 'tuple'>\n",
            "<class 'list'>\n",
            "\n",
            "\n",
            "('a', 'b', 'c')\n",
            "<class 'tuple'>\n",
            "<class 'str'>\n",
            "\n",
            "\n",
            "('apple', 1, ['Rolex', 'Titan'])\n",
            "<class 'tuple'>\n",
            "<class 'str'>\n",
            "<class 'int'>\n",
            "<class 'list'>\n"
          ],
          "name": "stdout"
        }
      ]
    }
  ]
}