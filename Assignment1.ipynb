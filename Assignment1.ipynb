{
  "nbformat": 4,
  "nbformat_minor": 0,
  "metadata": {
    "colab": {
      "name": "Assignment1.ipynb",
      "provenance": [],
      "collapsed_sections": []
    },
    "kernelspec": {
      "name": "python3",
      "display_name": "Python 3"
    },
    "language_info": {
      "name": "python"
    }
  },
  "cells": [
    {
      "cell_type": "code",
      "metadata": {
        "colab": {
          "base_uri": "https://localhost:8080/"
        },
        "id": "byfYIuUzY6yJ",
        "outputId": "c6d6baa5-457a-4fc8-ad6f-ad9c963cba62"
      },
      "source": [
        "#1. Write a Python code to calculate Permutation (5,3)\n",
        "n = 5\n",
        "r = 3\n",
        "def fact(n):           #function for computong factorial\n",
        "    if(n == 0 or n==1):\n",
        "        return 1\n",
        "    else:\n",
        "        return n*fact(n-1)\n",
        "p = fact(n)/fact(n-r)  #computing permutation\n",
        "print('The permutation of p({},{}) = {}'.format(n,r,p))\n"
      ],
      "execution_count": 1,
      "outputs": [
        {
          "output_type": "stream",
          "text": [
            "The permutation of p(5,3) = 60.0\n"
          ],
          "name": "stdout"
        }
      ]
    },
    {
      "cell_type": "code",
      "metadata": {
        "colab": {
          "base_uri": "https://localhost:8080/"
        },
        "id": "PRfVx7s0ZK0N",
        "outputId": "7a0b266d-925b-4524-a1d9-3f89d2d67fd7"
      },
      "source": [
        "#2. Write a Python code to calculate Combination (15,3)\n",
        "n = 15\n",
        "r = 3\n",
        "def fact(n):       #function for computong factorial\n",
        "    if(n == 0 or n==1):\n",
        "        return 1\n",
        "    else:\n",
        "        return n*fact(n-1)\n",
        "c = fact(n)/(fact(n-r)*fact(r))   #computing permutation\n",
        "print('The combination of c({},{}) = {}'.format(n,r,c))"
      ],
      "execution_count": 2,
      "outputs": [
        {
          "output_type": "stream",
          "text": [
            "The combination of c(15,3) = 455.0\n"
          ],
          "name": "stdout"
        }
      ]
    },
    {
      "cell_type": "code",
      "metadata": {
        "colab": {
          "base_uri": "https://localhost:8080/"
        },
        "id": "RYuAXKAJZQfU",
        "outputId": "b47d112d-f036-4715-ec96-1b4f10dabdf5"
      },
      "source": [
        "#3. Write a Python code that takes the degree as input from the user and convert it into radian.\n",
        "import math\n",
        "pi = math.pi\n",
        "d = float(input(\"Enter the values in degree:\\t\"))\n",
        "r = d*(pi/180)\n",
        "print('The value after converting to radian is:\\n',r)"
      ],
      "execution_count": 3,
      "outputs": [
        {
          "output_type": "stream",
          "text": [
            "Enter the values in degree:\t60\n",
            "The value after converting to radian is:\n",
            " 1.0471975511965976\n"
          ],
          "name": "stdout"
        }
      ]
    },
    {
      "cell_type": "code",
      "metadata": {
        "colab": {
          "base_uri": "https://localhost:8080/"
        },
        "id": "Q_I8a9XHZa0k",
        "outputId": "c919bf29-d135-4166-a8ca-78e7dc4c353d"
      },
      "source": [
        "#4. Write a Python code that inputs input from the user and calculate its square root.\n",
        "import math\n",
        "inp = float(input(\"Enter the number:\\t\"))\n",
        "SqRt = math.sqrt(inp)\n",
        "print(\"The square root of input number is:\\t\",SqRt)"
      ],
      "execution_count": 4,
      "outputs": [
        {
          "output_type": "stream",
          "text": [
            "Enter the number:\t64\n",
            "The square root of input number is:\t 8.0\n"
          ],
          "name": "stdout"
        }
      ]
    },
    {
      "cell_type": "code",
      "metadata": {
        "colab": {
          "base_uri": "https://localhost:8080/"
        },
        "id": "H0wjPwTpZeWb",
        "outputId": "838f822e-0921-47cc-8fce-322833293546"
      },
      "source": [
        "#5. Write a Python code to calculate LCM of (25,55)\n",
        "x = 25\n",
        "y = 55\n",
        "if x > y:\n",
        "    g = x\n",
        "else:\n",
        "    g = y\n",
        "while(True):\n",
        "    if((g % x == 0) and (g % y == 0)):\n",
        "        lcm = g\n",
        "        break\n",
        "    g +=1\n",
        "print('LCM({},{})={}'.format(x,y,lcm))"
      ],
      "execution_count": 6,
      "outputs": [
        {
          "output_type": "stream",
          "text": [
            "LCM(25,55)=275\n"
          ],
          "name": "stdout"
        }
      ]
    },
    {
      "cell_type": "code",
      "metadata": {
        "colab": {
          "base_uri": "https://localhost:8080/"
        },
        "id": "huYUeZLNZzmE",
        "outputId": "92bc46a8-82fb-4e62-ac3e-c5dab60c45ad"
      },
      "source": [
        "\"\"\"6. Ask enter to enter two numbers (say, a and b). Generate two random numbers between those\n",
        "two numbers and find a combination of these two newly generated random numbers.\"\"\"\n",
        "import random\n",
        "a = int(input(\"Enter the first number:\"))\n",
        "b = int(input(\"Enter the second number:\"))\n",
        "c = random.randint(a,b)\n",
        "d = random.randint(a,b)\n",
        "print(\"\\nThe first generated random number is:\",c)\n",
        "print(\"The second generated random number is:\",d)\n",
        "n = max(c,d)\n",
        "r = min(c,d)\n",
        "def fact(n):\n",
        "    if(n == 0 or n == 1):\n",
        "        return 1\n",
        "    else:\n",
        "        return n * fact(n-1)\n",
        "c = fact(n)/(fact(n-r)*fact(r))\n",
        "print(\"\\nThe combination of c({},{}) = {}\".format(n,r,c))"
      ],
      "execution_count": 13,
      "outputs": [
        {
          "output_type": "stream",
          "text": [
            "Enter the first number:1\n",
            "Enter the second number:100\n",
            "\n",
            "The first generated random number is: 99\n",
            "The second generated random number is: 46\n",
            "\n",
            "The combination of c(99,46) = 3.96743390230401e+28\n"
          ],
          "name": "stdout"
        }
      ]
    },
    {
      "cell_type": "code",
      "metadata": {
        "colab": {
          "base_uri": "https://localhost:8080/"
        },
        "id": "So3GpzZgebiv",
        "outputId": "f5bb5862-1be7-4780-c225-599eb231f1c9"
      },
      "source": [
        "#7. Divide 1000 by 3 and print the answer with only 5 numbers after decimal.\n",
        "a = 1000/3\n",
        "print(format(a,\".5f\"))"
      ],
      "execution_count": 14,
      "outputs": [
        {
          "output_type": "stream",
          "text": [
            "333.33333\n"
          ],
          "name": "stdout"
        }
      ]
    },
    {
      "cell_type": "code",
      "metadata": {
        "colab": {
          "base_uri": "https://localhost:8080/"
        },
        "id": "di8ooMPvelPE",
        "outputId": "fe9d5822-a213-4872-93ea-93e9f9c78890"
      },
      "source": [
        "#8. Write a program to convert 108 to binary.\n",
        "def decimalToBinary(n):\n",
        "    return bin(n).replace(\"0b\", \"\")\n",
        "   \n",
        "if __name__ == '__main__':\n",
        "    print(decimalToBinary(108))"
      ],
      "execution_count": 15,
      "outputs": [
        {
          "output_type": "stream",
          "text": [
            "1101100\n"
          ],
          "name": "stdout"
        }
      ]
    },
    {
      "cell_type": "code",
      "metadata": {
        "colab": {
          "base_uri": "https://localhost:8080/"
        },
        "id": "Qw1ciHljesSv",
        "outputId": "b5f3e9b6-a064-475c-c91f-ff1684ae12bc"
      },
      "source": [
        "#9. Write a program to convert 1008 to hexadecimal.\n",
        "a = 1008\n",
        "z = hex(a)\n",
        "print(\"The hexadecimal conversion of {} is:\\t {}\".format(a,z))"
      ],
      "execution_count": 16,
      "outputs": [
        {
          "output_type": "stream",
          "text": [
            "The hexadecimal conversion of 1008 is:\t 0x3f0\n"
          ],
          "name": "stdout"
        }
      ]
    }
  ]
}