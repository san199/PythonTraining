{
 "cells": [
  {
   "cell_type": "markdown",
   "metadata": {},
   "source": [
    "1. Find the inverse of the following matrices."
   ]
  },
  {
   "cell_type": "code",
   "execution_count": 3,
   "metadata": {},
   "outputs": [
    {
     "name": "stdout",
     "output_type": "stream",
     "text": [
      "\n",
      "================================================\n",
      "Matrx is not invertible.\n",
      "\n",
      "=================================================\n",
      "Inverse of B is:\r\n",
      "[[-1.4375      0.01704545  0.25      ]\n",
      " [ 1.125       0.03409091 -0.5       ]\n",
      " [ 0.0625     -0.02840909  0.25      ]]\n",
      "\n",
      "====================================================\n",
      "Inverse of C is:\r\n",
      "[[-8.55769231e-01 -7.82051282e-01  2.50000000e-01  3.87820513e-01]\n",
      " [ 7.50000000e-01  1.00000000e+00 -5.00000000e-01 -2.50000000e-01]\n",
      " [-8.65384615e-02 -6.41025641e-02  2.50000000e-01 -9.93589744e-02]\n",
      " [ 7.69230769e-02 -1.28205128e-01  1.15162994e-17  5.12820513e-02]]\n"
     ]
    }
   ],
   "source": [
    "import numpy\n",
    "\n",
    "import numpy as np\n",
    "A=np.array([[1,2,3],\n",
    "            [55,66,77]])\n",
    "B=np.array([[1,2,3],\n",
    "            [55,66,77],\n",
    "            [6,7,12]])\n",
    "C=np.array([[1,2,3,8],\n",
    "            [5,6,7,5],\n",
    "            [6,7,12,12],\n",
    "            [11,12,13,20]])\n",
    "\n",
    "def invertornot(A):\n",
    "    if len(A)==len(A[0]):\n",
    "        if np.linalg.det(A)!=0:\n",
    "            return True\n",
    "        else:\n",
    "            return False\n",
    "    else:\n",
    "        return False \n",
    "print(\"\\n================================================\")\n",
    "if invertornot(A)==True:\n",
    "    print(\"Inverse of A is:\\r\")\n",
    "    print(np.linalg.inv(A))\n",
    "else:\n",
    "    print(\"Matrx is not invertible.\")\n",
    "print(\"\\n=================================================\")\n",
    "if invertornot(B)==True:\n",
    "    print(\"Inverse of B is:\\r\")\n",
    "    print(np.linalg.inv(B))\n",
    "else:\n",
    "    print(\"Matrx is not invertible.\")\n",
    "print(\"\\n====================================================\")\n",
    "if invertornot(C)==True:\n",
    "    print(\"Inverse of C is:\\r\")\n",
    "    print(np.linalg.inv(C))\n",
    "else:\n",
    "    print(\"Matrx is not invertible.\")"
   ]
  },
  {
   "cell_type": "markdown",
   "metadata": {},
   "source": [
    "2.Find the values of x1, x2 and x3."
   ]
  },
  {
   "cell_type": "code",
   "execution_count": 8,
   "metadata": {},
   "outputs": [
    {
     "name": "stdout",
     "output_type": "stream",
     "text": [
      "\n",
      "================================================\n",
      "x1= -0.6077348066298338\n",
      "x2= 0.08287292817679548\n",
      "x3= 2.5690607734806625\n"
     ]
    }
   ],
   "source": [
    "import numpy\n",
    "\n",
    "#5x1 + 4 x2 + 3 x3 = 5\n",
    "#6x1 - 8x2   + 7x3 = 15\n",
    "#X1   - x2     +10x3 = 25  \n",
    "\n",
    "A=np.array([[5,4,3],\n",
    "            [6,8,7],\n",
    "            [1,-1,10]])\n",
    "\n",
    "B=np.array([5,15,25])\n",
    "#AX=B\n",
    "#X=(inverse of A)*B\n",
    "print(\"\\n================================================\")\n",
    "if invertornot(A)==True:\n",
    "    np.linalg.inv(A)\n",
    "    re=np.dot((np.linalg.inv(A)),B)\n",
    "    x1=re[0]\n",
    "    x2=re[1]\n",
    "    x3=re[2]\n",
    "    print(\"x1= {}\\nx2= {}\\nx3= {}\".format(x1,x2,x3))\n",
    "else:\n",
    "    print(\"\\nError: Matrix is not invertible\")"
   ]
  },
  {
   "cell_type": "markdown",
   "metadata": {},
   "source": [
    "3. Write a NumPy program to create an array of 10 zeros,10 ones, 10 fives."
   ]
  },
  {
   "cell_type": "code",
   "execution_count": 9,
   "metadata": {},
   "outputs": [
    {
     "name": "stdout",
     "output_type": "stream",
     "text": [
      "\n",
      "================================================\n",
      "[0. 0. 0. 0. 0. 0. 0. 0. 0. 0.]\n",
      "\n",
      "================================================\n",
      "[1. 1. 1. 1. 1. 1. 1. 1. 1. 1.]\n",
      "\n",
      "================================================\n",
      "[5. 5. 5. 5. 5. 5. 5. 5. 5. 5.]\n"
     ]
    }
   ],
   "source": [
    "Zero=np.zeros(10)\n",
    "one=np.ones(10)\n",
    "five=np.ones(10)*5\n",
    "print(\"\\n================================================\")\n",
    "print(Zero)\n",
    "print(\"\\n================================================\")\n",
    "print(one)\n",
    "print(\"\\n================================================\")\n",
    "print(five)"
   ]
  },
  {
   "cell_type": "markdown",
   "metadata": {},
   "source": [
    "4. Write a NumPy program to compute the eigenvalues and eigenvectors of a given square array. \n",
    "B=[[1,2,3],[55,66,7],[6,7,12],]"
   ]
  },
  {
   "cell_type": "code",
   "execution_count": 11,
   "metadata": {},
   "outputs": [
    {
     "name": "stdout",
     "output_type": "stream",
     "text": [
      "Eigen vector and eigen values of B matrix  are: \r\n",
      "(array([68.81905127, -0.70229368, 10.88324241]), array([[ 0.03480353,  0.77221412,  0.21267997],\n",
      "       [ 0.99144253, -0.6351919 , -0.32907749],\n",
      "       [ 0.12581905, -0.01471714,  0.92004089]]))\n"
     ]
    }
   ],
   "source": [
    "import numpy as np\n",
    "B=np.array([[1,2,3],\n",
    "            [55,66,7],\n",
    "            [6,7,12]])\n",
    "print(\"Eigen vector and eigen values of B matrix  are: \\r\")\n",
    "print(np.linalg.eig(B))"
   ]
  },
  {
   "cell_type": "markdown",
   "metadata": {},
   "source": [
    "5. Write a NumPy program to generate five random numbers from the normal distribution."
   ]
  },
  {
   "cell_type": "code",
   "execution_count": 18,
   "metadata": {},
   "outputs": [
    {
     "name": "stdout",
     "output_type": "stream",
     "text": [
      "five random numbers from the normal distribution are:\n",
      "[-0.81801612 -0.97677245  0.8422837  -0.89865586 -0.41357942]\n"
     ]
    }
   ],
   "source": [
    "import numpy as np\n",
    "print(\"five random numbers from the normal distribution are:\")\n",
    "print(np.random.normal(size=5))"
   ]
  },
  {
   "cell_type": "markdown",
   "metadata": {},
   "source": [
    "6. Write a NumPy program to generate six random integers between 10 and 30."
   ]
  },
  {
   "cell_type": "code",
   "execution_count": 17,
   "metadata": {},
   "outputs": [
    {
     "name": "stdout",
     "output_type": "stream",
     "text": [
      "Six random integers between 10 and 30 are:\n",
      "[24 16 23 25 25 20]\n"
     ]
    }
   ],
   "source": [
    "print(\"Six random integers between 10 and 30 are:\")\n",
    "print(np.random.randint(low=10,high=30,size=6))"
   ]
  },
  {
   "cell_type": "markdown",
   "metadata": {},
   "source": [
    "7. Write a NumPy program to create a 3x3x3 array with random values."
   ]
  },
  {
   "cell_type": "code",
   "execution_count": 20,
   "metadata": {},
   "outputs": [
    {
     "name": "stdout",
     "output_type": "stream",
     "text": [
      "A 3x3x3 array with random values:\n",
      "[[[0.93067279 0.13683251 0.38096306]\n",
      "  [0.95607004 0.20617513 0.33878515]\n",
      "  [0.91660718 0.2215243  0.63600661]]\n",
      "\n",
      " [[0.78634429 0.74702648 0.90874133]\n",
      "  [0.57923915 0.17437297 0.08407376]\n",
      "  [0.91804524 0.20658553 0.22228412]]\n",
      "\n",
      " [[0.58551276 0.90202513 0.08298607]\n",
      "  [0.18898935 0.02784686 0.3600282 ]\n",
      "  [0.63720013 0.44041142 0.92461419]]]\n"
     ]
    }
   ],
   "source": [
    "A = np.random.random((3,3,3))\n",
    "print(\"A 3x3x3 array with random values:\")\n",
    "print(A)"
   ]
  },
  {
   "cell_type": "markdown",
   "metadata": {},
   "source": [
    "8. Write a NumPy program to create a 5x5 array with random values and find the minimum and maximum values."
   ]
  },
  {
   "cell_type": "code",
   "execution_count": 22,
   "metadata": {},
   "outputs": [
    {
     "name": "stdout",
     "output_type": "stream",
     "text": [
      "A 5*5 array with random values is:\n",
      "[[0.81477767 0.68604682 0.39621593 0.18632154 0.10675715]\n",
      " [0.62679889 0.46102052 0.21306193 0.05171149 0.87085129]\n",
      " [0.03282836 0.4373248  0.2374176  0.07570718 0.91070835]\n",
      " [0.41965318 0.87715358 0.9674695  0.71242907 0.44557472]\n",
      " [0.98756459 0.13062576 0.63793909 0.93080704 0.16443076]]\n",
      "======================================================\n",
      "\n",
      "Maximum value in above matrix is: 0.9875645922459282\n",
      "======================================================\n",
      "\n",
      "Minimum value in above matrix is: 0.03282835839506826\n"
     ]
    }
   ],
   "source": [
    "A = np.random.random((5,5))\n",
    "print(\"A 5*5 array with random values is:\")\n",
    "print(A)\n",
    "print(\"======================================================\\n\")\n",
    "m = np.amax(A)\n",
    "print(\"Maximum value in above matrix is:\",m)\n",
    "print(\"======================================================\\n\")\n",
    "n = np.amin(A)\n",
    "print(\"Minimum value in above matrix is:\",n)"
   ]
  },
  {
   "cell_type": "markdown",
   "metadata": {},
   "source": [
    "9. Write a NumPy program to normalize a 3x3 random matrix."
   ]
  },
  {
   "cell_type": "code",
   "execution_count": 26,
   "metadata": {},
   "outputs": [
    {
     "name": "stdout",
     "output_type": "stream",
     "text": [
      "A 3*3 random matrix is:\n",
      "[[0.19318701 0.56575805 0.41238565]\n",
      " [0.45522096 0.21322969 0.13726939]\n",
      " [0.05047754 0.69540638 0.06585741]]\n",
      "\n",
      "===============================\n",
      "\n",
      "Normalized matrix is \n",
      " [[0.1701262  0.49822331 0.36315902]\n",
      " [0.40088106 0.18777638 0.12088349]\n",
      " [0.04445202 0.61239546 0.05799599]]\n"
     ]
    }
   ],
   "source": [
    "A=np.random.random((3,3))\n",
    "print(\"A 3*3 random matrix is:\")\n",
    "print(A)\n",
    "print(\"\\n===============================\\n\")\n",
    "print(\"Normalized matrix is \\n\",(A/(np.linalg.norm(A))))"
   ]
  },
  {
   "cell_type": "markdown",
   "metadata": {},
   "source": [
    "10. Write a NumPy program to create a random vector of size 10 and sort it."
   ]
  },
  {
   "cell_type": "code",
   "execution_count": 27,
   "metadata": {},
   "outputs": [
    {
     "name": "stdout",
     "output_type": "stream",
     "text": [
      "Random vector of size 10 is:\n",
      "[0.38854479 0.5431849  0.38694429 0.69010982 0.29807559 0.90145568\n",
      " 0.25700937 0.84950048 0.88599797 0.59697387]\n",
      "\n",
      "================================================================\n",
      "\n",
      "Sorted vector is: \n",
      " [0.25700937 0.29807559 0.38694429 0.38854479 0.5431849  0.59697387\n",
      " 0.69010982 0.84950048 0.88599797 0.90145568]\n"
     ]
    }
   ],
   "source": [
    "A = np.random.random(10)\n",
    "print(\"Random vector of size 10 is:\")\n",
    "print(A)\n",
    "print(\"\\n================================================================\\n\")\n",
    "A.sort()\n",
    "print(\"Sorted vector is: \\n\",A)"
   ]
  },
  {
   "cell_type": "markdown",
   "metadata": {},
   "source": [
    "11. Write a NumPy program to check if two random arrays are equal or not."
   ]
  },
  {
   "cell_type": "code",
   "execution_count": 29,
   "metadata": {},
   "outputs": [
    {
     "name": "stdout",
     "output_type": "stream",
     "text": [
      "A:\n",
      "[1 0 0 1 1]\n",
      "\n",
      " B:\n",
      "[0 1 0 0 0]\n",
      "\n",
      "=========================================\n",
      "\n",
      "A and B are not equal.\n"
     ]
    }
   ],
   "source": [
    "A=np.random.randint(0,2,5)\n",
    "B=np.random.randint(0,2,5)\n",
    "print(\"A:\")\n",
    "print(A)\n",
    "print(\"\\n B:\")\n",
    "print(B)\n",
    "print(\"\\n=========================================\")\n",
    "if np.allclose(A,B)==True:\n",
    "    print(\"\\nA and B are equal.\")\n",
    "else:\n",
    "    print(\"\\nA and B are not equal.\")"
   ]
  },
  {
   "cell_type": "markdown",
   "metadata": {},
   "source": [
    "12. Write a NumPy program to create a random vector of size 15 and replace the maximum value by -1."
   ]
  },
  {
   "cell_type": "code",
   "execution_count": 30,
   "metadata": {},
   "outputs": [
    {
     "name": "stdout",
     "output_type": "stream",
     "text": [
      "A random vector of size 15 is:\n",
      "[0.8605983  0.5053041  0.4050918  0.31535854 0.39466224 0.86752318\n",
      " 0.65607841 0.3413963  0.90693592 0.41777259 0.89492864 0.61984666\n",
      " 0.17613446 0.41893222 0.96797969]\n",
      "=========================================================================\n",
      "\n",
      "Maximum value in vector is   0.9679796894007446\n",
      "=========================================================================\n",
      "\n",
      "Vector after repalcing max value by -1 is \n",
      "\n",
      "=========================================================================\n",
      "\n",
      "[ 0.8605983   0.5053041   0.4050918   0.31535854  0.39466224  0.86752318\n",
      "  0.65607841  0.3413963   0.90693592  0.41777259  0.89492864  0.61984666\n",
      "  0.17613446  0.41893222 -1.        ]\n"
     ]
    }
   ],
   "source": [
    "A = numpy.random.random(15)\n",
    "print(\"A random vector of size 15 is:\")\n",
    "print(A)\n",
    "m = np.amax(A)\n",
    "m_pos = np.argmax(A)\n",
    "print(\"=========================================================================\\n\")\n",
    "print(\"Maximum value in vector is  \",m)\n",
    "print(\"=========================================================================\\n\")\n",
    "A[m_pos]=-1\n",
    "print(\"Vector after repalcing max value by -1 is \\n\")\n",
    "print(\"=========================================================================\\n\")\n",
    "print(A)"
   ]
  },
  {
   "cell_type": "markdown",
   "metadata": {},
   "source": [
    "13.  Write a NumPy program to sort a given array of shape 2 along the first axis, last axis and \n",
    "        on a flattened array. A=[[1,2],[11,12]]"
   ]
  },
  {
   "cell_type": "code",
   "execution_count": 33,
   "metadata": {},
   "outputs": [
    {
     "name": "stdout",
     "output_type": "stream",
     "text": [
      "=====================================\n",
      "\n",
      "Sordted along first axis:\n",
      "\n",
      "[[ 1  2]\n",
      " [11 12]]\n",
      "=====================================\n",
      "\n",
      "Sordted along last axis:\n",
      "\n",
      "[[ 1  2]\n",
      " [11 12]]\n",
      "=====================================\n",
      "\n",
      "Sordted along first axis:\n",
      "\n",
      "[ 1  2 11 12]\n"
     ]
    }
   ],
   "source": [
    "A=np.array([[1,2],\n",
    "            [11,12]])\n",
    "print(\"=====================================\\n\")\n",
    "print(\"Sordted along first axis:\\n\")\n",
    "print(np.sort(A,axis=0))\n",
    "print(\"=====================================\\n\")\n",
    "print(\"Sordted along last axis:\\n\")\n",
    "print(np.sort(A))\n",
    "print(\"=====================================\\n\")\n",
    "print(\"Sordted along first axis:\\n\")\n",
    "print(np.sort(A,axis=None))"
   ]
  },
  {
   "cell_type": "markdown",
   "metadata": {},
   "source": [
    "14.  Write a NumPy program to sort the student id with increasing height of the students from given students id and height. Print the integer indices that describe the sort order by multiple columns and the sorted data.\n",
    "\n",
    "     id=[123,126,140,153]        height=[145,155,165,153]"
   ]
  },
  {
   "cell_type": "code",
   "execution_count": 35,
   "metadata": {},
   "outputs": [
    {
     "name": "stdout",
     "output_type": "stream",
     "text": [
      "Data is sorted in followind order:\n",
      "\n",
      "[0 3 1 2]\n",
      "===========================================\n",
      "\n",
      "IN sorted order:\n",
      "\n",
      "===========================================\n",
      "\n",
      "    ID                       Height\n",
      "\n",
      "=============================================\n",
      "\n",
      "\n",
      "   123                    145\n",
      "\n",
      "   153                    153\n",
      "\n",
      "   126                    155\n",
      "\n",
      "   140                    165\n"
     ]
    }
   ],
   "source": [
    "d=np.array([123,126,140,153])\n",
    "height=np.array([145,155,165,153])\n",
    "i=np.lexsort((d,height))\n",
    "print(\"Data is sorted in followind order:\\n\")\n",
    "\n",
    "print(i)\n",
    "print(\"===========================================\\n\")\n",
    "print(\"IN sorted order:\\n\")\n",
    "print(\"===========================================\\n\")\n",
    "print(\"    ID                       Height\\n\")\n",
    "print(\"=============================================\\n\")\n",
    "for j in i:\n",
    "    print(\"\\n  \",d[j],\"                  \",height[j])"
   ]
  },
  {
   "cell_type": "markdown",
   "metadata": {},
   "source": [
    "15. Write a NumPy program to get the indices of the sorted elements of a given array. X = [1023 5202 6230 1671 1682 5241 4532]"
   ]
  },
  {
   "cell_type": "code",
   "execution_count": 36,
   "metadata": {},
   "outputs": [
    {
     "name": "stdout",
     "output_type": "stream",
     "text": [
      "Indices of sorted elements in given array is \n",
      "\n",
      "[0 3 4 6 1 5 2]\n",
      "===============================\n",
      "Sorted array is\n",
      "\n",
      "[1023 1671 1682 4532 5202 5241 6230]\n"
     ]
    }
   ],
   "source": [
    "X = np.array([1023, 5202, 6230, 1671, 1682, 5241, 4532])\n",
    "i=np.argsort(X)\n",
    "print(\"Indices of sorted elements in given array is \\n\")\n",
    "print(i)\n",
    "print(\"===============================\")\n",
    "print(\"Sorted array is\\n\")\n",
    "print(np.sort(X))\n"
   ]
  },
  {
   "cell_type": "markdown",
   "metadata": {},
   "source": [
    "16.  Write a NumPy program to sort a given complex array using the real part first, then the imaginary part. Y = [(1+2j), (3-1j), (3-2j), (4-3j), (3+5j)]"
   ]
  },
  {
   "cell_type": "code",
   "execution_count": 37,
   "metadata": {},
   "outputs": [
    {
     "name": "stdout",
     "output_type": "stream",
     "text": [
      "Before sorting:\n",
      "\n",
      "[1.+2.j 3.-1.j 3.-2.j 4.-3.j 3.+5.j]\n",
      "====================\n",
      "\n",
      "After sorting:\n",
      "\n",
      "[1.+2.j 3.-2.j 3.-1.j 3.+5.j 4.-3.j]\n"
     ]
    }
   ],
   "source": [
    "Y =np.array([(1+2j), (3-1j), (3-2j), (4-3j), (3+5j)])\n",
    "print(\"Before sorting:\\n\")\n",
    "print(Y)\n",
    "print(\"====================\\n\")\n",
    "print(\"After sorting:\\n\")\n",
    "print(np.sort_complex(Y))"
   ]
  },
  {
   "cell_type": "markdown",
   "metadata": {},
   "source": [
    "17. Multiply AXB\n",
    "\n",
    "    A=  [[1,2],[11,22],[12,15]]\n",
    "    B=[[1,2,3][11,12,13]]"
   ]
  },
  {
   "cell_type": "code",
   "execution_count": 38,
   "metadata": {},
   "outputs": [
    {
     "name": "stdout",
     "output_type": "stream",
     "text": [
      "AxB:\n",
      "[[ 23  26  29]\n",
      " [253 286 319]\n",
      " [177 204 231]]\n"
     ]
    }
   ],
   "source": [
    "A= np.array([ [1,2],\n",
    "              [11,22],\n",
    "              [12,15]])\n",
    "\n",
    "B=np.array([[1,2,3],\n",
    "            [11,12,13]])\n",
    "C=A.dot(B)\n",
    "print(\"AxB:\")\n",
    "print(C)"
   ]
  },
  {
   "cell_type": "markdown",
   "metadata": {},
   "source": [
    "18. Write a NumPy program to compute e^x, element-wise of a given array. A = [1,5,6,9]"
   ]
  },
  {
   "cell_type": "code",
   "execution_count": 39,
   "metadata": {},
   "outputs": [
    {
     "name": "stdout",
     "output_type": "stream",
     "text": [
      "Element-wise e^x of given array A is:\n",
      "[2.71828183e+00 1.48413159e+02 4.03428793e+02 8.10308393e+03]\n"
     ]
    }
   ],
   "source": [
    "A=np.array([1,5,6,9])\n",
    "print(\"Element-wise e^x of given array A is:\")\n",
    "print(np.exp(A))"
   ]
  },
  {
   "cell_type": "markdown",
   "metadata": {},
   "source": [
    "19. Write a NumPy program to compute natural, base 10, and base 2 logarithms for all elements in a given array. A = [1,2.5,56,19]"
   ]
  },
  {
   "cell_type": "code",
   "execution_count": 41,
   "metadata": {},
   "outputs": [
    {
     "name": "stdout",
     "output_type": "stream",
     "text": [
      "\n",
      "Natural logarithms for all elements in a given array:\n",
      "\n",
      "===========================================================\n",
      "\n",
      "[0.         0.91629073 4.02535169 2.94443898]\n",
      "\n",
      "Base 10 logarithms for all elements in a given array:\n",
      "\n",
      "===========================================================\n",
      "\n",
      "[0.         0.39794001 1.74818803 1.2787536 ]\n",
      "\n",
      "Natural logarithms for all elements in a given array:\n",
      "\n",
      "===========================================================\n",
      "\n",
      "[0.         1.32192809 5.80735492 4.24792751]\n"
     ]
    }
   ],
   "source": [
    "A=np.array([1,2.5,56,19])\n",
    "print(\"\\nNatural logarithms for all elements in a given array:\\n\")\n",
    "print(\"===========================================================\\n\")\n",
    "print(np.log(A))\n",
    "print(\"\\nBase 10 logarithms for all elements in a given array:\\n\")\n",
    "print(\"===========================================================\\n\")\n",
    "print(np.log10(A))\n",
    "print(\"\\nNatural logarithms for all elements in a given array:\\n\")\n",
    "print(\"===========================================================\\n\")\n",
    "print(np.log2(A))"
   ]
  },
  {
   "cell_type": "markdown",
   "metadata": {},
   "source": [
    "20. Write a NumPy program to calculate the difference between the maximum and the minimum values of a given array along the second axis.          \n",
    "A = [[ 0 1 2 3 4 5] [ 6 7 8 9 10 11]]"
   ]
  },
  {
   "cell_type": "code",
   "execution_count": 43,
   "metadata": {},
   "outputs": [
    {
     "name": "stdout",
     "output_type": "stream",
     "text": [
      "difference between the maximum and the minimum values of a given array along the second axis\n",
      "\n",
      "[5 5]\n"
     ]
    }
   ],
   "source": [
    "A=np.array([[0,1,2,3,4,5],\n",
    "            [6,7,8,9,10,11]])\n",
    "max=np.amax(A,axis=1)\n",
    "min=np.amin(A,axis=1)\n",
    "print(\"difference between the maximum and the minimum values of a given array along the second axis\\n\")\n",
    "print(max-min)"
   ]
  },
  {
   "cell_type": "markdown",
   "metadata": {},
   "source": [
    "21. Write a NumPy program to compute the median of a flattened given array. B =[[ 0 1 2 3 4 5] [ 6 7 8 9 10 11]]"
   ]
  },
  {
   "cell_type": "code",
   "execution_count": 44,
   "metadata": {},
   "outputs": [
    {
     "name": "stdout",
     "output_type": "stream",
     "text": [
      "Median of flattened goven array is \n",
      "5.5\n"
     ]
    }
   ],
   "source": [
    "B=np.array([[0,1,2,3,4,5],\n",
    "            [6,7,8,9,10,11]])\n",
    "print(\"Median of flattened goven array is \")\n",
    "print(np.median(B,axis=None))"
   ]
  },
  {
   "cell_type": "markdown",
   "metadata": {},
   "source": [
    "22. Write a NumPy program to compute cross-correlation of two given arrays.\n",
    "A = [0 1 3] B = [2 4 5]"
   ]
  },
  {
   "cell_type": "code",
   "execution_count": 45,
   "metadata": {},
   "outputs": [
    {
     "name": "stdout",
     "output_type": "stream",
     "text": [
      " cross-correlation of two given arrays is\n",
      "[[2.33333333 2.16666667]\n",
      " [2.16666667 2.33333333]]\n"
     ]
    }
   ],
   "source": [
    "A=np.array([0,1,3])\n",
    "B=np.array([2,4,5])\n",
    "print(\" cross-correlation of two given arrays is\")\n",
    "print(np.cov(A,B))"
   ]
  },
  {
   "cell_type": "markdown",
   "metadata": {},
   "source": [
    "23. Write a Python program to count the number of occurrences of each value in a given array of non-negative integers. A = [0, 1, 6, 1, 4, 1, 2, 2, 7]"
   ]
  },
  {
   "cell_type": "code",
   "execution_count": 51,
   "metadata": {},
   "outputs": [
    {
     "name": "stdout",
     "output_type": "stream",
     "text": [
      " number of occurrences of each value in a given array of non-negative integers is:\n",
      "\n",
      "=========================================================================================\n",
      "\n",
      "   number       occurrence-count\n",
      "\n",
      "-----------------------------------\n",
      "     0                1\n",
      "-----------------------------------\n",
      "     1                3\n",
      "-----------------------------------\n",
      "     2                1\n",
      "-----------------------------------\n",
      "     1                3\n",
      "-----------------------------------\n",
      "     4                1\n",
      "-----------------------------------\n",
      "     1                3\n",
      "-----------------------------------\n",
      "     6                2\n",
      "-----------------------------------\n",
      "     6                2\n",
      "-----------------------------------\n",
      "     2                1\n",
      "-----------------------------------\n"
     ]
    }
   ],
   "source": [
    "A = np.array([0, 1, 6, 1, 4, 1, 2, 2, 7])\n",
    "count=np.bincount(A)\n",
    "print(\" number of occurrences of each value in a given array of non-negative integers is:\\n\")\n",
    "print(\"=========================================================================================\\n\")\n",
    "print(\"   number       occurrence-count\\n\")\n",
    "print(\"-----------------------------------\")\n",
    "for i in A:\n",
    "    print(\"    \",A[i],\"              \",count[i])\n",
    "    print(\"-----------------------------------\")"
   ]
  },
  {
   "cell_type": "markdown",
   "metadata": {},
   "source": [
    "24. Write a NumPy program to display all the dates for the month of May, 2021."
   ]
  },
  {
   "cell_type": "code",
   "execution_count": 53,
   "metadata": {},
   "outputs": [
    {
     "name": "stdout",
     "output_type": "stream",
     "text": [
      "                            May, 2021\n",
      "=================================================================\n",
      "['2021-05-01' '2021-05-02' '2021-05-03' '2021-05-04' '2021-05-05'\n",
      " '2021-05-06' '2021-05-07' '2021-05-08' '2021-05-09' '2021-05-10'\n",
      " '2021-05-11' '2021-05-12' '2021-05-13' '2021-05-14' '2021-05-15'\n",
      " '2021-05-16' '2021-05-17' '2021-05-18' '2021-05-19' '2021-05-20'\n",
      " '2021-05-21' '2021-05-22' '2021-05-23' '2021-05-24' '2021-05-25'\n",
      " '2021-05-26' '2021-05-27' '2021-05-28' '2021-05-29' '2021-05-30'\n",
      " '2021-05-31']\n",
      "=================================================================\n"
     ]
    }
   ],
   "source": [
    "print(\"                            May, 2021\")\n",
    "print(\"=================================================================\")\n",
    "print(np.arange('2021-05', '2021-06', dtype='datetime64[D]'))\n",
    "print(\"=================================================================\")"
   ]
  },
  {
   "cell_type": "markdown",
   "metadata": {},
   "source": [
    "25. Write a NumPy program to concatenate element-wise two arrays of string. A = ['Python' 'PHP'] B = [' Java' ' C++']"
   ]
  },
  {
   "cell_type": "code",
   "execution_count": 54,
   "metadata": {},
   "outputs": [
    {
     "name": "stdout",
     "output_type": "stream",
     "text": [
      "['Python Java' 'PHP C++']\n"
     ]
    }
   ],
   "source": [
    "A = np.array(['Python', 'PHP'])\n",
    "B = np.array([' Java' ,' C++'])\n",
    "print(np.char.add(A,B))"
   ]
  },
  {
   "cell_type": "code",
   "execution_count": null,
   "metadata": {},
   "outputs": [],
   "source": []
  }
 ],
 "metadata": {
  "kernelspec": {
   "display_name": "Python 3",
   "language": "python",
   "name": "python3"
  },
  "language_info": {
   "codemirror_mode": {
    "name": "ipython",
    "version": 3
   },
   "file_extension": ".py",
   "mimetype": "text/x-python",
   "name": "python",
   "nbconvert_exporter": "python",
   "pygments_lexer": "ipython3",
   "version": "3.8.5"
  }
 },
 "nbformat": 4,
 "nbformat_minor": 4
}
