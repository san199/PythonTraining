{
 "cells": [
  {
   "cell_type": "code",
   "execution_count": 6,
   "metadata": {},
   "outputs": [
    {
     "name": "stdout",
     "output_type": "stream",
     "text": [
      "The list before removing duplication:\n",
      " ['crows', 'pigeon', 'eagles', 'falcon', 'pigeon', 'falcon', 'falcon']\n",
      "\n",
      "\n",
      "The list after removing duplicates:\n",
      " ['crows', 'pigeon', 'eagles', 'falcon']\n"
     ]
    }
   ],
   "source": [
    "#1. Remove all the duplicates from the following list using while.\n",
    "\n",
    "bird = ['crows','pigeon','eagles','falcon','pigeon','falcon','falcon']\n",
    "birds = []\n",
    "print(\"The list before removing duplication:\\n\",bird)\n",
    "print(\"\\n\")\n",
    "i = 0\n",
    "while i < len(bird):\n",
    "    if bird[i] not in birds:\n",
    "        birds.append(bird[i])\n",
    "    i += 1\n",
    "bird = birds\n",
    "print(\"The list after removing duplicates:\\n\",birds)"
   ]
  },
  {
   "cell_type": "code",
   "execution_count": null,
   "metadata": {},
   "outputs": [],
   "source": [
    "\"\"\"2. Deli: Make a list called sandwich_orders and fill it with the names of various sandwiches. Then make an empty list called \n",
    "finished_sandwiches . Loop through the list of sandwich orders and print a message for each order, such as I made your tuna \n",
    "sandwich. As each sandwich is made, move it to the list of finished sandwiches. After all the sandwiches have been made, print \n",
    "a message listing each sandwich that was made.\"\"\"\n",
    "\n",
    "sandwich_orders = [\"buff\",\"chicken\",\"chocolate\",\"egg\",\"ham\",\"italian\",\"tuna\",]\n",
    "finished_sandwiches = []\n",
    "i = 0\n",
    "a = 0\n",
    "while i < len(sandwich_orders):\n",
    "    print(\"I made your\",sandwich_orders[i],\"sandwich.\")\n",
    "    finished_sandwiches.append(sandwich_orders[i])\n",
    "    i += 1\n",
    "print(\"\\n\")\n",
    "\n",
    "print(\"List of sandwiches made:\")\n",
    "while a < len(finished_sandwiches):\n",
    "    print(finished_sandwiches[a])\n",
    "    a += 1"
   ]
  },
  {
   "cell_type": "code",
   "execution_count": 2,
   "metadata": {},
   "outputs": [
    {
     "name": "stdout",
     "output_type": "stream",
     "text": [
      "If you could visit one place in the world, where would you go?\n",
      "paris\n",
      "Press '1' to end\n",
      "italy\n",
      "If you could visit one place in the world, where would you go?\n",
      "iceland\n",
      "Press '1' to end\n",
      "maldives\n",
      "If you could visit one place in the world, where would you go?\n",
      "bali\n",
      "Press '1' to end\n",
      "1\n",
      "Polling result for polls taken with 3 people is \n",
      " \n",
      "{'paris': 1, 'iceland': 1, 'bali': 1}\n"
     ]
    }
   ],
   "source": [
    "\"\"\"Dream Vacation: Write a program that polls users about their dream vacation. Write a prompt similar to If you could visit \n",
    "one place in the world, where would you go? Include a block of code that prints the results of the poll.\"\"\"\n",
    "\n",
    "vacation=[]\n",
    "while True:\n",
    "    p=input(\"If you could visit one place in the world, where would you go?\\n\")\n",
    "    vacation.append(p)\n",
    "    prompt=input(\"Press '1' to end\\n\")\n",
    "    if prompt=='1':\n",
    "        break\n",
    "i=0\n",
    "poll={}\n",
    "while i<len(vacation):\n",
    "    if vacation[i] not in poll.keys():\n",
    "        poll[vacation[i]]=1\n",
    "    else:\n",
    "        poll[vacation[i]]+=1\n",
    "    i+=1\n",
    "print(\"Polling result for polls taken with {} people is \\n \".format(len(vacation)))\n",
    "print(poll)"
   ]
  },
  {
   "cell_type": "code",
   "execution_count": null,
   "metadata": {},
   "outputs": [],
   "source": []
  }
 ],
 "metadata": {
  "kernelspec": {
   "display_name": "Python 3",
   "language": "python",
   "name": "python3"
  },
  "language_info": {
   "codemirror_mode": {
    "name": "ipython",
    "version": 3
   },
   "file_extension": ".py",
   "mimetype": "text/x-python",
   "name": "python",
   "nbconvert_exporter": "python",
   "pygments_lexer": "ipython3",
   "version": "3.8.5"
  }
 },
 "nbformat": 4,
 "nbformat_minor": 4
}
