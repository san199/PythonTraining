{
 "cells": [
  {
   "cell_type": "code",
   "execution_count": 2,
   "metadata": {},
   "outputs": [
    {
     "name": "stdout",
     "output_type": "stream",
     "text": [
      "The matrix multplication of A and B is:\n",
      "[340, 390, 202]\n",
      "[946, 879, 526]\n",
      "[1552, 1368, 850]\n"
     ]
    }
   ],
   "source": [
    "\"\"\"\"1. Multiply following matrices\n",
    "        A = [[1,2,3],    \n",
    "             [4,5,6],\n",
    "             [7,8,9]]\n",
    "             \n",
    "        B = [[111,22,33],\n",
    "             [44 ,55,56],\n",
    "             [47 ,86,19]]\n",
    "Using for loops and print the result.\"\"\"\n",
    "\n",
    "A = [[1,2,3],\n",
    "     [4,5,6],\n",
    "     [7,8,9]]\n",
    "\n",
    "B = [[111,22,33],\n",
    "     [44 ,55,56],\n",
    "     [47 ,86,19]]\n",
    "  \n",
    "res = [[0 for x in range(3)] for y in range(3)] #print 3*3 matrix with each element '0'(null matrix).\n",
    "  \n",
    "# explicit for loops\n",
    "for i in range(len(A)):\n",
    "    for j in range(len(B[0])):\n",
    "        for k in range(len(B)):\n",
    "  \n",
    "            # resulted matrix\n",
    "            res[i][j] += A[i][k] * B[k][j]\n",
    "print(\"The matrix multplication of A and B is:\")\n",
    "for z in res:\n",
    "    print(z)"
   ]
  },
  {
   "cell_type": "code",
   "execution_count": 1,
   "metadata": {},
   "outputs": [
    {
     "name": "stdout",
     "output_type": "stream",
     "text": [
      "The matrix multplication of A and B is:\n",
      "[1584, 2838, 2060, 664]\n",
      "[1097, 1581, 1548, 346]\n",
      "[996, 1582, 1062, 318]\n",
      "[176, 170, 499, 59]\n"
     ]
    }
   ],
   "source": [
    "\"\"\"\"2. Multiply following matrices\n",
    "        C = [[111,22,33,44],\n",
    "            [44 ,55,56,1 ],\n",
    "            [47 ,86,19,2 ],\n",
    "            [1  ,2 ,22,3 ]]\n",
    "             \n",
    "        D = [[11,22,3 ,4],\n",
    "             [4 ,5 ,6 ,1],\n",
    "             [7 ,6 ,19,2],\n",
    "             [1 ,2 ,22,3]]\n",
    "Using for loops and print the result.\"\"\"\n",
    "\n",
    "C = [[111,22,33,44],\n",
    "     [44 ,55,56,1 ],\n",
    "     [47 ,86,19,2 ],\n",
    "     [1  ,2 ,22,3 ]]\n",
    "\n",
    "D = [[11,22,3 ,4],\n",
    "     [4 ,5 ,6 ,1],\n",
    "     [7 ,6 ,19,2],\n",
    "     [1 ,2 ,22,3]]\n",
    "  \n",
    "res = [[0 for x in range(4)] for y in range(4)] #print 4*4 matrix with each element '0'(null matrix).\n",
    "  \n",
    "# explicit for loops\n",
    "for i in range(len(C)):\n",
    "    for j in range(len(D[0])):\n",
    "        for k in range(len(C)):\n",
    "  \n",
    "            # resulted matrix\n",
    "            res[i][j] += C[i][k] * D[k][j]\n",
    "print(\"The matrix multplication of A and B is:\")\n",
    "for z in res:\n",
    "    print(z)"
   ]
  },
  {
   "cell_type": "code",
   "execution_count": 4,
   "metadata": {},
   "outputs": [
    {
     "name": "stdout",
     "output_type": "stream",
     "text": [
      "\n",
      "F\n",
      "\n",
      "FFF\n",
      "\n",
      "FFFFF\n",
      "\n",
      "FFFFFFF\n",
      "\n",
      "FFFFFFFFF\n",
      "\n",
      "FFFFFFFFFFF\n"
     ]
    }
   ],
   "source": [
    "\"\"\"3(a).Generate the following patterns using for loop:\n",
    "            F\n",
    "            FFF\n",
    "            FFFFF\n",
    "            FFFFFFF\n",
    "            FFFFFFFFF\n",
    "            FFFFFFFFFFF    \"\"\"\n",
    "\n",
    "for i in range(12):\n",
    "    if i%2 != 0:\n",
    "        for j in range(i):\n",
    "            print(\"F\",end=\"\")\n",
    "    print()"
   ]
  },
  {
   "cell_type": "code",
   "execution_count": 6,
   "metadata": {},
   "outputs": [
    {
     "name": "stdout",
     "output_type": "stream",
     "text": [
      "F\n",
      "F\n",
      "FF\n",
      "FFF\n",
      "FFFFF\n",
      "FFFFFFFF\n",
      "FFFFFFFFFFFFF\n",
      "FFFFFFFFFFFFFFFFFFFFF\n",
      "FFFFFFFFFFFFFFFFFFFFFFFFFFFFFFFFFF\n"
     ]
    }
   ],
   "source": [
    "\"\"\"3(b). \n",
    "        F\n",
    "        F\n",
    "        FF\n",
    "        FFF\n",
    "        FFFFF\n",
    "        FFFFFFFF\n",
    "        FFFFFFFFFFFFF\n",
    "        FFFFFFFFFFFFFFFFFFFFF\n",
    "        FFFFFFFFFFFFFFFFFFFFFFFFFFFFFFFFFF  \"\"\"\n",
    "\n",
    "x= 0\n",
    "y = 1\n",
    "for i in range(1,10):\n",
    "    if(i <= 1):\n",
    "         fibo = i\n",
    "    else:\n",
    "        fibo = x +y\n",
    "        x = y\n",
    "        y = fibo\n",
    "    for j in range(fibo):\n",
    "        print('F',end=\"\")\n",
    "    print()"
   ]
  },
  {
   "cell_type": "code",
   "execution_count": null,
   "metadata": {},
   "outputs": [],
   "source": []
  }
 ],
 "metadata": {
  "kernelspec": {
   "display_name": "Python 3",
   "language": "python",
   "name": "python3"
  },
  "language_info": {
   "codemirror_mode": {
    "name": "ipython",
    "version": 3
   },
   "file_extension": ".py",
   "mimetype": "text/x-python",
   "name": "python",
   "nbconvert_exporter": "python",
   "pygments_lexer": "ipython3",
   "version": "3.8.5"
  }
 },
 "nbformat": 4,
 "nbformat_minor": 4
}
