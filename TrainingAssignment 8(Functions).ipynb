{
 "cells": [
  {
   "cell_type": "code",
   "execution_count": 5,
   "metadata": {},
   "outputs": [
    {
     "name": "stdout",
     "output_type": "stream",
     "text": [
      "Enter the base number:2\n",
      "Enter the power of base number:3\n",
      "The calculation of 2^3 is 8\n"
     ]
    }
   ],
   "source": [
    "#1. Write a function that calculates the X^Y.\n",
    "\n",
    "def myfunction(X , y):\n",
    "    return(pow(X,y))\n",
    "X = int(input(\"Enter the base number:\"))\n",
    "y = int(input(\"Enter the power of base number:\"))\n",
    "print(\"The calculation of {}^{} is {}\".format(X,y,myfunction(X,y)))"
   ]
  },
  {
   "cell_type": "code",
   "execution_count": null,
   "metadata": {},
   "outputs": [],
   "source": [
    "#2. Write a Python function to multiply all the numbers in a list.\n",
    "\n",
    "def multiplication(myList):\n",
    "    t = 1\n",
    "    for i in myList:\n",
    "        t = i * t\n",
    "    return t\n",
    "myList = [1,2,3,4,5,6]\n",
    "\n",
    "print(\"The value of multiplication of all element in list is: \",multiplication(myList))    "
   ]
  },
  {
   "cell_type": "code",
   "execution_count": 4,
   "metadata": {},
   "outputs": [
    {
     "name": "stdout",
     "output_type": "stream",
     "text": [
      "Enter the number:5\n",
      "The factorial of number 5 is 120\n"
     ]
    }
   ],
   "source": [
    "\"\"\"3. Write a Python function to calculate the factorial of a number (a non-negative integer). \n",
    "    The function accepts the number as an argument. \"\"\"\n",
    "\n",
    "n = abs(int(input(\"Enter the number:\")))\n",
    "def fact(n):\n",
    "    if(n == 0 or n==1):\n",
    "        return 1\n",
    "    else:\n",
    "        return n*fact(n-1)\n",
    "print(\"The factorial of number {} is {}\".format(n,fact(n)))"
   ]
  },
  {
   "cell_type": "code",
   "execution_count": 6,
   "metadata": {},
   "outputs": [
    {
     "name": "stdout",
     "output_type": "stream",
     "text": [
      "The number of uppercase letters is: 7\n",
      "The number of lowercase letters is: 8\n"
     ]
    }
   ],
   "source": [
    "#4. Write a Python function that accepts a string and calculates the number of uppercase letters and lowercase letters.\n",
    "\n",
    "def caseConvert(x):\n",
    "    \n",
    "    Ucount = 0\n",
    "    Lcount = 0\n",
    "    for a in range(len(x)):\n",
    "        if x[a].isupper() == True:\n",
    "            Ucount += 1\n",
    "        else:\n",
    "            Lcount += 1\n",
    "    print(\"The number of uppercase letters is:\",Ucount)\n",
    "    print(\"The number of lowercase letters is:\",Lcount)\n",
    "\n",
    "stri = \"AxcfDFGJbbnjkFB\"\n",
    "caseConvert(stri)"
   ]
  },
  {
   "cell_type": "code",
   "execution_count": 24,
   "metadata": {},
   "outputs": [
    {
     "name": "stdout",
     "output_type": "stream",
     "text": [
      "The original list:\n",
      " ['Messi', 'Cristiano', 'Ronaldinho', 'Messi', 'Ibrahimovic', 'Beckham', 'Cristiano', 'Zidane', 'Messi', 'Cristiano', 'Zidane']\n",
      "\n",
      "The list with unique elements:\n",
      " ['Messi', 'Cristiano', 'Ronaldinho', 'Ibrahimovic', 'Beckham', 'Zidane']\n"
     ]
    }
   ],
   "source": [
    "#5. Write a Python function that takes a list and returns a new list with unique elements of the first list\n",
    "\n",
    "thisList = [\"Messi\",\"Cristiano\",\"Ronaldinho\",\"Messi\",\"Ibrahimovic\",\"Beckham\",\"Cristiano\",\"Zidane\",\"Messi\",\"Cristiano\",\"Zidane\"]\n",
    "\n",
    "def unique(thisList):\n",
    "    uniqueList = []\n",
    "    for x in thisList:\n",
    "        if x not in uniqueList:\n",
    "            uniqueList.append(x)\n",
    "    return uniqueList\n",
    "\n",
    "print(\"The original list:\\n\",thisList)\n",
    "print(\"\\nThe list with unique elements:\\n\",unique(thisList))"
   ]
  },
  {
   "cell_type": "code",
   "execution_count": 17,
   "metadata": {},
   "outputs": [
    {
     "name": "stdout",
     "output_type": "stream",
     "text": [
      "The even numbers from the list are:\n",
      "2\n",
      "6\n",
      "8\n",
      "4\n",
      "2\n",
      "6\n",
      "4\n"
     ]
    }
   ],
   "source": [
    "#6. Write a Python program to print the even numbers from a given list.\n",
    "\n",
    "lis = [1,2,5,6,8,4,7,9,7,3,2,6,5,4,9,7]\n",
    "\n",
    "def even(lis):\n",
    "    for x in lis:\n",
    "        if x%2 == 0:\n",
    "            print(x)\n",
    "print(\"The even numbers from the list are:\")\n",
    "even(lis)"
   ]
  },
  {
   "cell_type": "code",
   "execution_count": 44,
   "metadata": {},
   "outputs": [
    {
     "name": "stdout",
     "output_type": "stream",
     "text": [
      "The letter is a pangram.\n"
     ]
    }
   ],
   "source": [
    "#7. Write a Python function to check whether a string is a pangram or not.\n",
    "\n",
    "strin = \"THE quick BROWN fox JUMPS over THE lazy DOG\"\n",
    "\n",
    "def pangram(strin):\n",
    "    alpha = \"abcdefghijklmnopqrstuvwxyz\"\n",
    "    for c in alpha:\n",
    "        if c in strin:\n",
    "            print(\"The letter is a pangram.\")\n",
    "            break\n",
    "        else:\n",
    "            print(\"The letter is not a pangram.\")\n",
    "            break\n",
    "pangram(strin)"
   ]
  },
  {
   "cell_type": "code",
   "execution_count": 48,
   "metadata": {},
   "outputs": [
    {
     "name": "stdout",
     "output_type": "stream",
     "text": [
      "The Sorted hyphen Words:\n",
      "black-green-red-white-yellow\n"
     ]
    }
   ],
   "source": [
    "\"\"\"8. Write a Python program that accepts a hyphen-separated sequence of words as input and prints the words in a \n",
    "        hyphen-separated sequence after sorting them alphabetically.\"\"\"\n",
    "\n",
    "words =\"green-red-yellow-black-white\"\n",
    "def hyphen(words):\n",
    "    hList=[]\n",
    "    hList=[a for a in words.split('-')]  \n",
    "    hList.sort()\n",
    "    print(\"The Sorted hyphen Words:\")\n",
    "    print('-'.join(hList))\n",
    "hyphen(words)"
   ]
  },
  {
   "cell_type": "code",
   "execution_count": 59,
   "metadata": {},
   "outputs": [
    {
     "name": "stdout",
     "output_type": "stream",
     "text": [
      "The original string is:\n",
      " Cristiano Ronaldo\n",
      "\n",
      "The reversed string is:\n",
      " odlanoR onaitsirC\n"
     ]
    }
   ],
   "source": [
    "#9. Write a Python program to reverse a string.\n",
    "\n",
    "def reverse(str):\n",
    "    resStr = \"\"\n",
    "    for i in str:\n",
    "        resStr = i + resStr\n",
    "    return resStr\n",
    "\n",
    "st = \"Cristiano Ronaldo\"\n",
    "print(\"The original string is:\\n\",st)\n",
    "print(\"\\nThe reversed string is:\\n\",reverse(st))"
   ]
  },
  {
   "cell_type": "code",
   "execution_count": 62,
   "metadata": {},
   "outputs": [
    {
     "name": "stdout",
     "output_type": "stream",
     "text": [
      "You are going to the:  Hell\n"
     ]
    }
   ],
   "source": [
    "#10. Write a Python program to access a function inside a function.\n",
    "\n",
    "def basefunc():\n",
    "    x = \"Hell\"\n",
    "    return x\n",
    "def dispfunc():\n",
    "    print(\"You are going to the: \",basefunc())\n",
    "dispfunc()"
   ]
  },
  {
   "cell_type": "code",
   "execution_count": 68,
   "metadata": {},
   "outputs": [
    {
     "name": "stdout",
     "output_type": "stream",
     "text": [
      "Enter the number to be doubled:10\n",
      "Double of 10 is 20\n",
      "\n",
      "Enter the first number to be add:40\n",
      "Enter the second number to be add:60\n",
      "Sum of 40 and  60 is 100.\n"
     ]
    }
   ],
   "source": [
    "#11. Write a program to double a given number and add two numbers using lambda()\n",
    "\n",
    "def double():\n",
    "    a = int(input(\"Enter the number to be doubled:\"))\n",
    "    db = lambda num1 : num1 *2\n",
    "    print(\"Double of {} is {}\".format(a,db(a)))\n",
    "    \n",
    "def add():\n",
    "    b = int(input(\"\\nEnter the first number to be add:\"))\n",
    "    c = int(input(\"Enter the second number to be add:\"))\n",
    "    sum = lambda num1, num2 : num1 + num2\n",
    "    print(\"Sum of {} and  {} is {}.\".format(b,c,sum(b,c)))\n",
    "    \n",
    "double()\n",
    "add()"
   ]
  },
  {
   "cell_type": "markdown",
   "metadata": {},
   "source": [
    "12. Write a python module with two functions: i) GCD   ii) LCM"
   ]
  },
  {
   "cell_type": "code",
   "execution_count": 84,
   "metadata": {},
   "outputs": [
    {
     "name": "stdout",
     "output_type": "stream",
     "text": [
      "Writing modeGCDandLCM.py\n"
     ]
    }
   ],
   "source": [
    "%%writefile modeGCDandLCM.py\n",
    "\n",
    "def GCD(x,y):\n",
    "    if y == 0:\n",
    "        return x\n",
    "    else:\n",
    "        return GCD(y, x%y)\n",
    "def LCM(x,y):\n",
    "    return (x/GCD(x,y)) * y"
   ]
  },
  {
   "cell_type": "code",
   "execution_count": 91,
   "metadata": {},
   "outputs": [
    {
     "name": "stdout",
     "output_type": "stream",
     "text": [
      "4\n",
      "60.0\n"
     ]
    }
   ],
   "source": [
    "#Implement of module\n",
    "from modeGCDandLCM import *\n",
    "print(GCD(12,20))\n",
    "print(LCM(12,20))"
   ]
  },
  {
   "cell_type": "markdown",
   "metadata": {},
   "source": [
    "13. Write a python module with multiple sorting algorithms as its functions"
   ]
  },
  {
   "cell_type": "code",
   "execution_count": 99,
   "metadata": {},
   "outputs": [
    {
     "name": "stdout",
     "output_type": "stream",
     "text": [
      "Overwriting sortalgo.py\n"
     ]
    }
   ],
   "source": [
    "%%writefile sortalgo.py\n",
    "\n",
    "def bubblesort(a):\n",
    "  n = len(a)\n",
    "  for i in range(n-1):\n",
    "      for j in range(0, n-i-1):\n",
    "          if a[j] > a[j + 1] :\n",
    "             a[j], a[j + 1] = a[j + 1], a[j]\n",
    "\n",
    "\n",
    "\n",
    "def heapify(arr, n, i):\n",
    "    largest = i\n",
    "    l = 2 * i + 1    \n",
    "    r = 2 * i + 2    \n",
    "    if l < n and arr[i] < arr[l]:\n",
    "        largest = l\n",
    "    if r < n and arr[largest] < arr[r]:\n",
    "        largest = r\n",
    "    if largest != i:\n",
    "        arr[i],arr[largest] = arr[largest],arr[i]  \n",
    "        heapify(arr, n, largest)\n",
    "def heapSort(arr):\n",
    "    n = len(arr)\n",
    "    for i in range(n // 2 - 1, -1, -1):\n",
    "        heapify(arr, n, i)\n",
    "    for i in range(n-1, 0, -1):\n",
    "        arr[i], arr[0] = arr[0], arr[i]\n",
    "        heapify(arr, i, 0)\n",
    "\n",
    "\n",
    "\n",
    "def selecctionsort(A):\n",
    "  for i in range(len(A)):\n",
    "    min_idx = i\n",
    "    for j in range(i+1, len(A)):\n",
    "        if A[min_idx] > A[j]:\n",
    "            min_idx = j    \n",
    "    A[i], A[min_idx] = A[min_idx], A[i]\n",
    "\n",
    "\n",
    "def insertionSort(arr):\n",
    "    for i in range(1, len(arr)):\n",
    "        key = arr[i]\n",
    "        j = i-1\n",
    "        while j >=0 and key < arr[j] :\n",
    "                arr[j+1] = arr[j]\n",
    "                j -= 1\n",
    "        arr[j+1] = key"
   ]
  },
  {
   "cell_type": "code",
   "execution_count": 105,
   "metadata": {},
   "outputs": [
    {
     "name": "stdout",
     "output_type": "stream",
     "text": [
      "The initial list:\n",
      " [1, 2, 4, 6, 23, 45, 61, 5, 69, 11, 22]\n",
      "The list after bubblesort:\n",
      "[1, 2, 4, 5, 6, 11, 22, 23, 45, 61, 69]\n",
      "\n",
      "The initial list:\n",
      " [1, 21, 44, 67, 2, 4, 6, 45, 6, 1, 2]\n",
      "The list after heapsort:\n",
      "[1, 1, 2, 2, 4, 6, 6, 21, 44, 45, 67]\n",
      "\n",
      "The initial list:\n",
      " [11, 23, 41, 67, 2, 43, 69, 45, 61, 14, 20]\n",
      "The list after selection sort:\n",
      "[2, 11, 14, 20, 23, 41, 43, 45, 61, 67, 69]\n",
      "\n",
      "The initial list:\n",
      " [11, 23, 4, 67, 25, 4, 56, 45, 6, 1, 4]\n",
      "The list after insertion sort:\n",
      "[1, 4, 4, 4, 6, 11, 23, 25, 45, 56, 67]\n"
     ]
    }
   ],
   "source": [
    "#implement sortalgo module\n",
    "from sortalgo import *\n",
    "list1=[1,2,4,6,23,45,61,5,69,11,22]\n",
    "list2=[1,21,44,67,2,4,6,45,6,1,2]\n",
    "list3=[11,23,41,67,2,43,69,45,61,14,20]\n",
    "list4=[11,23,4,67,25,4,56,45,6,1,4]\n",
    "\n",
    "\n",
    "print(\"The initial list:\\n\",list1)\n",
    "print(\"The list after bubblesort:\")\n",
    "bubblesort(list1)\n",
    "print(list1)\n",
    "\n",
    "print(\"\\nThe initial list:\\n\",list2)\n",
    "print(\"The list after heapsort:\")\n",
    "heapSort(list2)\n",
    "print(list2)\n",
    "\n",
    "print(\"\\nThe initial list:\\n\",list3)\n",
    "print(\"The list after selection sort:\")\n",
    "selecctionsort(list3)\n",
    "print(list3)\n",
    "\n",
    "print(\"\\nThe initial list:\\n\",list4)\n",
    "print(\"The list after insertion sort:\")\n",
    "insertionSort(list4)\n",
    "print(list4)\n",
    "\n"
   ]
  },
  {
   "cell_type": "code",
   "execution_count": 107,
   "metadata": {},
   "outputs": [
    {
     "name": "stdout",
     "output_type": "stream",
     "text": [
      "Mean of the given data is:  51.3\n",
      "Variance of the given data is  74.52899999999998\n",
      "Standard deviation of the given data is  33.536215913215045\n"
     ]
    }
   ],
   "source": [
    "\"\"\"14. Write three different functions to calculate the mean, variance and standard deviation of the following data.\n",
    "        You need to call your mean function to within your variance and standard deviation functions.\"\"\"\n",
    "\n",
    "import math\n",
    "from builtins import *\n",
    "\n",
    "def mean(Marks):\n",
    "    return sum(Marks)/len(Marks)\n",
    "def variance(x):\n",
    "    d=[]\n",
    "    m=mean(x)\n",
    "    for i in x:\n",
    "        sq=(i-m)**2\n",
    "        d.append(sq)\n",
    "        return sum(d)/len(x)\n",
    "def sd(x):\n",
    "    sm=0\n",
    "    m=mean(x)\n",
    "    for i in x:\n",
    "        sm+=((i-m)**2)\n",
    "    return math.sqrt(sm/(len(x)-1))\n",
    "\n",
    "Marks=[24,36,45,45,96,56,89,12,10,100]\n",
    "\n",
    "print(\"Mean of the given data is: \",mean(Marks))\n",
    "print(\"Variance of the given data is \",variance(Marks))\n",
    "print(\"Standard deviation of the given data is \",sd(Marks))"
   ]
  },
  {
   "cell_type": "code",
   "execution_count": null,
   "metadata": {},
   "outputs": [],
   "source": []
  }
 ],
 "metadata": {
  "kernelspec": {
   "display_name": "Python 3",
   "language": "python",
   "name": "python3"
  },
  "language_info": {
   "codemirror_mode": {
    "name": "ipython",
    "version": 3
   },
   "file_extension": ".py",
   "mimetype": "text/x-python",
   "name": "python",
   "nbconvert_exporter": "python",
   "pygments_lexer": "ipython3",
   "version": "3.8.5"
  }
 },
 "nbformat": 4,
 "nbformat_minor": 4
}
